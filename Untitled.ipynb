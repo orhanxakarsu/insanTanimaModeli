{
 "cells": [
  {
   "cell_type": "code",
   "execution_count": 44,
   "metadata": {},
   "outputs": [],
   "source": [
    "from keras.datasets import mnist\n",
    "from keras.models import load_model\n",
    "from keras.models import Sequential\n",
    "from keras.layers import Dense,Flatten,Dropout\n",
    "from keras.layers import Conv2D,MaxPool2D\n",
    "from keras import backend as K\n",
    "import keras\n",
    "import matplotlib.pyplot as plt\n",
    "import cv2\n",
    "import numpy as np\n",
    "from sklearn.model_selection import train_test_split\n",
    "from PIL import Image"
   ]
  },
  {
   "cell_type": "code",
   "execution_count": 45,
   "metadata": {},
   "outputs": [],
   "source": [
    "batch_size =128\n",
    "num_classes=2\n",
    "epoch=10\n",
    "input_shape=(256,256,3)\n",
    "dataYolu=r'C:\\Users\\orhan\\OneDrive\\Masaüstü\\insanTanimaDenemesi\\datalar\\datasets'"
   ]
  },
  {
   "cell_type": "code",
   "execution_count": 84,
   "metadata": {},
   "outputs": [],
   "source": [
    "#Create to model :\n",
    "model = Sequential()"
   ]
  },
  {
   "cell_type": "code",
   "execution_count": 85,
   "metadata": {},
   "outputs": [],
   "source": [
    "model.add(Conv2D(96,kernel_size=(11,11),strides=2,activation='relu',input_shape=(256,256,3)))\n",
    "model.add(Conv2D(128,kernel_size=(11,11),strides=1,activation='relu'))\n",
    "model.add(MaxPool2D(pool_size=(2,2)))\n",
    "model.add(Conv2D(256,kernel_size=(1,1),activation='relu',strides=2))\n",
    "model.add(Conv2D(384,kernel_size=(5,5),activation='relu'))\n",
    "model.add(MaxPool2D(pool_size=(2,2)))\n",
    "model.add(Flatten())\n",
    "model.add(Dense(256,activation='relu'))\n",
    "model.add(Dropout(0.5))\n",
    "model.add(Dense(128,activation='relu'))\n",
    "model.add(Dropout(0.3))\n",
    "model.add(Dense(64,activation='relu'))\n",
    "model.add(Dense(num_classes,activation='softmax'))\n",
    "\n"
   ]
  },
  {
   "cell_type": "code",
   "execution_count": 87,
   "metadata": {},
   "outputs": [],
   "source": [
    "model.compile(loss=keras.losses.categorical_crossentropy,\n",
    "             optimizer=keras.optimizers.Adadelta(),\n",
    "             metrics=['accuracy'])"
   ]
  },
  {
   "cell_type": "code",
   "execution_count": 86,
   "metadata": {},
   "outputs": [
    {
     "name": "stdout",
     "output_type": "stream",
     "text": [
      "Model: \"sequential_22\"\n",
      "_________________________________________________________________\n",
      "Layer (type)                 Output Shape              Param #   \n",
      "=================================================================\n",
      "conv2d_86 (Conv2D)           (None, 123, 123, 96)      34944     \n",
      "_________________________________________________________________\n",
      "conv2d_87 (Conv2D)           (None, 113, 113, 128)     1486976   \n",
      "_________________________________________________________________\n",
      "max_pooling2d_48 (MaxPooling (None, 56, 56, 128)       0         \n",
      "_________________________________________________________________\n",
      "conv2d_88 (Conv2D)           (None, 28, 28, 256)       33024     \n",
      "_________________________________________________________________\n",
      "conv2d_89 (Conv2D)           (None, 24, 24, 384)       2457984   \n",
      "_________________________________________________________________\n",
      "max_pooling2d_49 (MaxPooling (None, 12, 12, 384)       0         \n",
      "_________________________________________________________________\n",
      "flatten_15 (Flatten)         (None, 55296)             0         \n",
      "_________________________________________________________________\n",
      "dense_44 (Dense)             (None, 256)               14156032  \n",
      "_________________________________________________________________\n",
      "dropout_16 (Dropout)         (None, 256)               0         \n",
      "_________________________________________________________________\n",
      "dense_45 (Dense)             (None, 128)               32896     \n",
      "_________________________________________________________________\n",
      "dropout_17 (Dropout)         (None, 128)               0         \n",
      "_________________________________________________________________\n",
      "dense_46 (Dense)             (None, 64)                8256      \n",
      "_________________________________________________________________\n",
      "dense_47 (Dense)             (None, 2)                 130       \n",
      "=================================================================\n",
      "Total params: 18,210,242\n",
      "Trainable params: 18,210,242\n",
      "Non-trainable params: 0\n",
      "_________________________________________________________________\n"
     ]
    }
   ],
   "source": [
    "model.summary()"
   ]
  },
  {
   "cell_type": "code",
   "execution_count": 36,
   "metadata": {},
   "outputs": [],
   "source": [
    "#DATASET İŞLEMLERİ\n",
    "\n",
    "#print(cv2.imread('datasets/insandegil/0_0.png'))"
   ]
  },
  {
   "cell_type": "code",
   "execution_count": 53,
   "metadata": {},
   "outputs": [],
   "source": [
    "insanDegil =[]\n",
    "insan =[]\n",
    "insanY=[]\n",
    "insandegilY=[]\n",
    "\n",
    "for i in range(231):\n",
    "    resim = cv2.imread('datasets/insandegil/0_'+str(i)+'.png')\n",
    "    insanDegil.append(resim)\n",
    "    insandegilY.append([0,1])\n",
    "\n",
    "for j in range(231,1507):\n",
    "    resim1 = cv2.imread('datasets/insan/1_'+str(j)+'.png')\n",
    "    if np.any(resim1==None):\n",
    "        continue\n",
    "    insan.append(resim1)\n",
    "    insanY.append([1,0])\n",
    "\n",
    "X= np.append(insanDegil,insan,axis=0)\n",
    "X__=[]\n",
    "y=np.append(np.array(insandegilY),np.array(insanY),axis=0)\n",
    "\n"
   ]
  },
  {
   "cell_type": "code",
   "execution_count": 51,
   "metadata": {},
   "outputs": [
    {
     "name": "stdout",
     "output_type": "stream",
     "text": [
      "False\n"
     ]
    }
   ],
   "source": [
    "dogruluk=False\n",
    "a=0\n",
    "for i in(range(len(insan))):\n",
    "    if insan[i].shape!=(256,256,3):\n",
    "        dogruluk=True\n",
    "        break\n",
    "        print(a)\n",
    "        a+=1\n",
    "print(dogruluk)"
   ]
  },
  {
   "cell_type": "code",
   "execution_count": 54,
   "metadata": {},
   "outputs": [
    {
     "data": {
      "text/plain": [
       "(507, 256, 256, 3)"
      ]
     },
     "execution_count": 54,
     "metadata": {},
     "output_type": "execute_result"
    }
   ],
   "source": [
    "X.shape"
   ]
  },
  {
   "cell_type": "code",
   "execution_count": 55,
   "metadata": {},
   "outputs": [],
   "source": [
    "X_train,X_test,y_train,y_test =train_test_split(X,y,test_size=0.10,random_state=42)"
   ]
  },
  {
   "cell_type": "code",
   "execution_count": 88,
   "metadata": {},
   "outputs": [
    {
     "name": "stdout",
     "output_type": "stream",
     "text": [
      "Train on 456 samples, validate on 51 samples\n",
      "Epoch 1/10\n",
      "456/456 [==============================] - 383s 840ms/step - loss: 955.5409 - accuracy: 0.4737 - val_loss: 0.6948 - val_accuracy: 0.5294\n",
      "Epoch 2/10\n",
      "456/456 [==============================] - 387s 848ms/step - loss: 0.7181 - accuracy: 0.5482 - val_loss: 0.6841 - val_accuracy: 0.5294\n",
      "Epoch 3/10\n",
      "456/456 [==============================] - 385s 844ms/step - loss: 0.6794 - accuracy: 0.5526 - val_loss: 0.6881 - val_accuracy: 0.6275\n",
      "Epoch 4/10\n",
      "456/456 [==============================] - 386s 847ms/step - loss: 0.6926 - accuracy: 0.5548 - val_loss: 0.7061 - val_accuracy: 0.5294\n",
      "Epoch 5/10\n",
      "456/456 [==============================] - 393s 861ms/step - loss: 0.6783 - accuracy: 0.5768 - val_loss: 0.6752 - val_accuracy: 0.6471\n",
      "Epoch 6/10\n",
      "456/456 [==============================] - 390s 856ms/step - loss: 0.6759 - accuracy: 0.5877 - val_loss: 0.6383 - val_accuracy: 0.6863\n",
      "Epoch 7/10\n",
      "456/456 [==============================] - 389s 853ms/step - loss: 2.2819 - accuracy: 0.5811 - val_loss: 0.6724 - val_accuracy: 0.5686\n",
      "Epoch 8/10\n",
      "456/456 [==============================] - 388s 850ms/step - loss: 0.6993 - accuracy: 0.6031 - val_loss: 0.6588 - val_accuracy: 0.6863\n",
      "Epoch 9/10\n",
      "456/456 [==============================] - 387s 848ms/step - loss: 0.6543 - accuracy: 0.6250 - val_loss: 0.6841 - val_accuracy: 0.5882\n",
      "Epoch 10/10\n",
      "456/456 [==============================] - 383s 840ms/step - loss: 0.6647 - accuracy: 0.6579 - val_loss: 0.6965 - val_accuracy: 0.6863\n"
     ]
    },
    {
     "data": {
      "text/plain": [
       "<keras.callbacks.callbacks.History at 0x12c2b2e6048>"
      ]
     },
     "execution_count": 88,
     "metadata": {},
     "output_type": "execute_result"
    }
   ],
   "source": [
    "model.fit(X_train,y_train,batch_size=64,epochs=10,verbose=1,validation_data=(X_test,y_test))"
   ]
  },
  {
   "cell_type": "code",
   "execution_count": 89,
   "metadata": {},
   "outputs": [],
   "source": [
    "model.save('insanTespiti.h5')"
   ]
  },
  {
   "cell_type": "code",
   "execution_count": null,
   "metadata": {},
   "outputs": [],
   "source": []
  }
 ],
 "metadata": {
  "kernelspec": {
   "display_name": "Python 3",
   "language": "python",
   "name": "python3"
  },
  "language_info": {
   "codemirror_mode": {
    "name": "ipython",
    "version": 3
   },
   "file_extension": ".py",
   "mimetype": "text/x-python",
   "name": "python",
   "nbconvert_exporter": "python",
   "pygments_lexer": "ipython3",
   "version": "3.7.7"
  }
 },
 "nbformat": 4,
 "nbformat_minor": 4
}
